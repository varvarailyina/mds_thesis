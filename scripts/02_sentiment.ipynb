{
 "cells": [
  {
   "cell_type": "markdown",
   "metadata": {},
   "source": [
    "## MDS Thesis\n",
    "#### 02 Sentiment Analysis\n",
    "\n",
    "- dictionary-based approach (SentiWS)\n",
    "- word embeddings (FastText)\n",
    "- pre-trained LLM (german-sentiment-bert)\n",
    "\n",
    "<br>\n",
    "<hr style=\"opacity: 0.5\">\n",
    "\n",
    "### Setup"
   ]
  },
  {
   "cell_type": "code",
   "execution_count": 11,
   "metadata": {},
   "outputs": [],
   "source": [
    "# install if needed\n",
    "#!pip install fasttext\n",
    "\n",
    "# load libraries\n",
    "import pandas as pd\n",
    "import numpy as np\n",
    "import fasttext\n",
    "import fasttext.util\n",
    "from transformers import pipeline\n",
    "from sklearn.preprocessing import StandardScaler\n",
    "from scipy.spatial.distance import cosine"
   ]
  },
  {
   "cell_type": "code",
   "execution_count": 15,
   "metadata": {},
   "outputs": [],
   "source": [
    "# load pre-processed data\n",
    "df = pd.read_csv(\"../data/out/df_clean.csv\")"
   ]
  },
  {
   "cell_type": "markdown",
   "metadata": {},
   "source": [
    "<hr style=\"opacity: 0.5\">\n",
    "\n",
    "### Dictionary-based approach (SentiWS)"
   ]
  },
  {
   "cell_type": "code",
   "execution_count": 13,
   "metadata": {},
   "outputs": [
    {
     "name": "stdout",
     "output_type": "stream",
     "text": [
      "Sample positive words: ['spektakel', 'formvollendet', 'löblich', 'ankurbeln', 'fesselnd', 'höhepunkt', 'nachhaltig', 'sehenswert', 'aufmunternd', 'empfehlung']\n",
      "Sample negative words: ['besteuerung', 'feindlich', 'inkonsistent', 'folgewidrig', 'archaisch', 'jammern', 'unnötig', 'überschuß', 'auseinandersetzung', 'abweichen']\n"
     ]
    }
   ],
   "source": [
    "# define function to load sentiws\n",
    "def load_sentiws_words(file_path):\n",
    "    words = set()\n",
    "    with open(file_path, \"r\", encoding=\"utf-8\") as f:\n",
    "        for line in f:\n",
    "            base_word = line.split(\"|\")[0].strip().lower()  # Extract base word before \"|\"\n",
    "            words.add(base_word)\n",
    "    return words\n",
    "\n",
    "# load positive and negative words\n",
    "positive_words = load_sentiws_words(\"../data/in/sentiws/SentiWS_v2.0_Positive.txt\")\n",
    "negative_words = load_sentiws_words(\"../data/in/sentiws/SentiWS_v2.0_Negative.txt\")\n",
    "\n",
    "# output first few words\n",
    "print(\"Sample positive words:\", list(positive_words)[:10])\n",
    "print(\"Sample negative words:\", list(negative_words)[:10])"
   ]
  },
  {
   "cell_type": "code",
   "execution_count": 18,
   "metadata": {},
   "outputs": [],
   "source": [
    "# define function to tokenize and calculate sentiment scores\n",
    "def compute_dict_sentiment(text):\n",
    "    words = text.lower().split()\n",
    "    pos_count = sum(1 for word in words if word in positive_words)\n",
    "    neg_count = sum(1 for word in words if word in negative_words)\n",
    "    return pos_count - neg_count\n",
    "\n",
    "# run function\n",
    "df[\"sentiment_score_dict\"] = df[\"text\"].apply(compute_dict_sentiment)\n",
    "scaler = StandardScaler()\n",
    "df[\"sentiment_score_dict\"] = scaler.fit_transform(df[[\"sentiment_score_dict\"]])\n",
    "\n",
    "# apply to processed_text, not text"
   ]
  },
  {
   "cell_type": "markdown",
   "metadata": {},
   "source": [
    "<hr style=\"opacity: 0.5\">\n",
    "\n",
    "### Contextual word embeddings (FastText)\n",
    "\n",
    "- Word2Vec uses context to learn word embeddings for semantic relationships\n",
    "- GloVe uses global word co-occurrence matrices for semantic relationships\n",
    "- FastText builds on Word2Vec but includes subword embeddings (useful for German)"
   ]
  },
  {
   "cell_type": "code",
   "execution_count": 19,
   "metadata": {},
   "outputs": [],
   "source": [
    "# download FastText german model\n",
    "fasttext.util.download_model(\"de\", if_exists=\"ignore\")\n",
    "ft = fasttext.load_model(\"cc.de.300.bin\")\n",
    "\n",
    "### HERE"
   ]
  },
  {
   "cell_type": "code",
   "execution_count": null,
   "metadata": {},
   "outputs": [],
   "source": [
    "# define function to calculate sentiment using fasttext\n",
    "def compute_fasttext_sentiment(text):\n",
    "    words = text.lower().split()\n",
    "    vectors = [ft.get_word_vector(word) for word in words if word in ft.words]\n",
    "    if not vectors:\n",
    "        return 0\n",
    "    doc_vector = np.mean(vectors, axis=0)\n",
    "    \n",
    "    pos_vector = np.mean([ft.get_word_vector(word) for word in positive_words if word in ft.words], axis=0)\n",
    "    neg_vector = np.mean([ft.get_word_vector(word) for word in negative_words if word in ft.words], axis=0)\n",
    "    \n",
    "    pos_sim = 1 - cosine(doc_vector, pos_vector)\n",
    "    neg_sim = 1 - cosine(doc_vector, neg_vector)\n",
    "    \n",
    "    return pos_sim - neg_sim"
   ]
  },
  {
   "cell_type": "code",
   "execution_count": null,
   "metadata": {},
   "outputs": [],
   "source": [
    "# run function\n",
    "df[\"sentiment_score_fasttext\"] = df[\"text\"].apply(compute_fasttext_sentiment)\n",
    "df[\"sentiment_score_fasttext\"] = scaler.fit_transform(df[[\"sentiment_score_fasttext\"]])"
   ]
  },
  {
   "cell_type": "markdown",
   "metadata": {},
   "source": [
    "<hr style=\"opacity: 0.5\">\n",
    "\n",
    "### Pre-trained LLM (german-sentiment-bert)"
   ]
  },
  {
   "cell_type": "code",
   "execution_count": null,
   "metadata": {},
   "outputs": [],
   "source": [
    "# pre-trained LLM sentiment analysis (german-sentiment-bert)\n",
    "sentiment_model = pipeline(\"text-classification\", model=\"oliverguhr/german-sentiment-bert\")\n",
    "\n",
    "def compute_bert_sentiment(text):\n",
    "    result = sentiment_model(text[:512])[0]  # Truncate to 512 tokens\n",
    "    score = result[\"score\"]\n",
    "    if result[\"label\"] == \"positive\":\n",
    "        return score\n",
    "    elif result[\"label\"] == \"negative\":\n",
    "        return -score\n",
    "    else:\n",
    "        return 0\n",
    "\n",
    "df[\"sentiment_score_bert\"] = df[\"text\"].apply(compute_bert_sentiment)\n",
    "df[\"sentiment_score_bert\"] = scaler.fit_transform(df[[\"sentiment_score_bert\"]])"
   ]
  },
  {
   "cell_type": "code",
   "execution_count": null,
   "metadata": {},
   "outputs": [],
   "source": [
    "# save results\n",
    "df.to_csv(\"..data/out/sentiment_results.csv\", index=False)"
   ]
  }
 ],
 "metadata": {
  "kernelspec": {
   "display_name": "Python 3",
   "language": "python",
   "name": "python3"
  },
  "language_info": {
   "codemirror_mode": {
    "name": "ipython",
    "version": 3
   },
   "file_extension": ".py",
   "mimetype": "text/x-python",
   "name": "python",
   "nbconvert_exporter": "python",
   "pygments_lexer": "ipython3",
   "version": "3.9.4"
  }
 },
 "nbformat": 4,
 "nbformat_minor": 2
}
