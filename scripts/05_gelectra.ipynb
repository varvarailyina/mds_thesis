{
 "cells": [
  {
   "cell_type": "markdown",
   "metadata": {},
   "source": [
    "## MDS Thesis\n",
    "#### 05 Fine-tune the German ELECTRA model\n",
    "\n",
    "<br>\n",
    "<hr style=\"opacity: 0.5\">\n",
    "\n",
    "### Setup"
   ]
  },
  {
   "cell_type": "code",
   "execution_count": 25,
   "metadata": {},
   "outputs": [],
   "source": [
    "# load libraries\n",
    "import pandas as pd\n",
    "import numpy as np\n",
    "import os\n",
    "import torch\n",
    "import pickle\n",
    "\n",
    "from transformers import ElectraTokenizer, ElectraModel\n",
    "from datasets import Dataset\n",
    "from sklearn.decomposition import PCA\n",
    "import matplotlib.pyplot as plt\n",
    "import seaborn as sns"
   ]
  },
  {
   "cell_type": "code",
   "execution_count": 3,
   "metadata": {},
   "outputs": [],
   "source": [
    "# check wd\n",
    "os.getcwd()\n",
    "#os.chdir(\"/Users/varvarailyina/hertie/mds_thesis/scripts/\")\n",
    "\n",
    "# load labels data\n",
    "df_partypress = pd.read_csv(\"../data/in/partypress/csv/partypress.csv\")\n",
    "\n",
    "# load text data\n",
    "df_texts = pd.read_csv(\"../data/in/partypress/csv/partypress_texts.csv\")"
   ]
  },
  {
   "cell_type": "code",
   "execution_count": 4,
   "metadata": {},
   "outputs": [
    {
     "data": {
      "text/plain": [
       "ElectraModel(\n",
       "  (embeddings): ElectraEmbeddings(\n",
       "    (word_embeddings): Embedding(32767, 768, padding_idx=0)\n",
       "    (position_embeddings): Embedding(512, 768)\n",
       "    (token_type_embeddings): Embedding(2, 768)\n",
       "    (LayerNorm): LayerNorm((768,), eps=1e-12, elementwise_affine=True)\n",
       "    (dropout): Dropout(p=0.1, inplace=False)\n",
       "  )\n",
       "  (encoder): ElectraEncoder(\n",
       "    (layer): ModuleList(\n",
       "      (0-11): 12 x ElectraLayer(\n",
       "        (attention): ElectraAttention(\n",
       "          (self): ElectraSelfAttention(\n",
       "            (query): Linear(in_features=768, out_features=768, bias=True)\n",
       "            (key): Linear(in_features=768, out_features=768, bias=True)\n",
       "            (value): Linear(in_features=768, out_features=768, bias=True)\n",
       "            (dropout): Dropout(p=0.1, inplace=False)\n",
       "          )\n",
       "          (output): ElectraSelfOutput(\n",
       "            (dense): Linear(in_features=768, out_features=768, bias=True)\n",
       "            (LayerNorm): LayerNorm((768,), eps=1e-12, elementwise_affine=True)\n",
       "            (dropout): Dropout(p=0.1, inplace=False)\n",
       "          )\n",
       "        )\n",
       "        (intermediate): ElectraIntermediate(\n",
       "          (dense): Linear(in_features=768, out_features=3072, bias=True)\n",
       "          (intermediate_act_fn): GELUActivation()\n",
       "        )\n",
       "        (output): ElectraOutput(\n",
       "          (dense): Linear(in_features=3072, out_features=768, bias=True)\n",
       "          (LayerNorm): LayerNorm((768,), eps=1e-12, elementwise_affine=True)\n",
       "          (dropout): Dropout(p=0.1, inplace=False)\n",
       "        )\n",
       "      )\n",
       "    )\n",
       "  )\n",
       ")"
      ]
     },
     "execution_count": 4,
     "metadata": {},
     "output_type": "execute_result"
    }
   ],
   "source": [
    "# load tokenizer and model\n",
    "tokenizer = ElectraTokenizer.from_pretrained('german-nlp-group/electra-base-german-uncased')\n",
    "model = ElectraModel.from_pretrained('german-nlp-group/electra-base-german-uncased')\n",
    "\n",
    "# set to evaluation mode\n",
    "model.eval()"
   ]
  },
  {
   "cell_type": "markdown",
   "metadata": {},
   "source": [
    "<hr style=\"opacity: 0.5\">\n",
    "\n",
    "### Pre-process data"
   ]
  },
  {
   "cell_type": "code",
   "execution_count": 5,
   "metadata": {},
   "outputs": [
    {
     "name": "stdout",
     "output_type": "stream",
     "text": [
      "True\n",
      "True\n"
     ]
    }
   ],
   "source": [
    "print(df_partypress.index.is_unique)\n",
    "print(df_texts.index.is_unique)"
   ]
  },
  {
   "cell_type": "code",
   "execution_count": 6,
   "metadata": {},
   "outputs": [],
   "source": [
    "# set merging index to be 'id'\n",
    "df_partypress.set_index('id', inplace=True)\n",
    "df_texts.set_index('id', inplace=True)"
   ]
  },
  {
   "cell_type": "code",
   "execution_count": 7,
   "metadata": {},
   "outputs": [],
   "source": [
    "# merge datasets based on id and country_name\n",
    "df = df_partypress.merge(df_texts, on=['id', 'country_name'], how='inner')"
   ]
  },
  {
   "cell_type": "code",
   "execution_count": 8,
   "metadata": {},
   "outputs": [
    {
     "name": "stdout",
     "output_type": "stream",
     "text": [
      "Index(['country_name', 'parlgov_id', 'party', 'party_name',\n",
      "       'party_name_english', 'family_name', 'date', 'month', 'month_start',\n",
      "       'month_end', 'calendar_week', 'week_start', 'week_end', 'header',\n",
      "       'issue_multi', 'issue_mono', 'issue', 'issue_coder2', 'position',\n",
      "       'position_coder2', 'cv_sample', 'issue_ridge', 'issue_super', 'text'],\n",
      "      dtype='object')\n"
     ]
    }
   ],
   "source": [
    "# check var names\n",
    "print(df.columns)"
   ]
  },
  {
   "cell_type": "code",
   "execution_count": null,
   "metadata": {},
   "outputs": [],
   "source": [
    "# filter for germany\n",
    "#df_de = df[df['country_name'] == 'germany']\n",
    "\n",
    "# pre-process texts df\n",
    "#texts = df_de['text'].dropna()\n",
    "#text_df = texts.to_frame()\n",
    "\n",
    "# convert df to dataset\n",
    "#dataset = Dataset.from_pandas(text_df)"
   ]
  },
  {
   "cell_type": "code",
   "execution_count": 16,
   "metadata": {},
   "outputs": [],
   "source": [
    "# filter for germany\n",
    "df_de = df[df['country_name'] == 'germany']\n",
    "\n",
    "# randomly select 100 press releases\n",
    "#df_sample = df_de.sample(n=100, random_state=42)\n",
    "\n",
    "# randomly select 4400 press releases\n",
    "df_sample = df_de.sample(n=4400, random_state=42)\n",
    "\n",
    "# pre-process texts df\n",
    "texts = df_sample['text'].dropna()\n",
    "text_df = texts.to_frame()\n",
    "\n",
    "# convert df to dataset\n",
    "dataset = Dataset.from_pandas(text_df)"
   ]
  },
  {
   "cell_type": "code",
   "execution_count": 17,
   "metadata": {},
   "outputs": [
    {
     "name": "stdout",
     "output_type": "stream",
     "text": [
      "<class 'pandas.core.frame.DataFrame'>\n",
      "Index: 44950 entries, 18020 to 10366\n",
      "Data columns (total 24 columns):\n",
      " #   Column              Non-Null Count  Dtype  \n",
      "---  ------              --------------  -----  \n",
      " 0   country_name        44950 non-null  object \n",
      " 1   parlgov_id          44950 non-null  float64\n",
      " 2   party               44950 non-null  object \n",
      " 3   party_name          44950 non-null  object \n",
      " 4   party_name_english  44950 non-null  object \n",
      " 5   family_name         44950 non-null  object \n",
      " 6   date                44950 non-null  object \n",
      " 7   month               44950 non-null  int64  \n",
      " 8   month_start         44950 non-null  object \n",
      " 9   month_end           44950 non-null  object \n",
      " 10  calendar_week       44950 non-null  int64  \n",
      " 11  week_start          44950 non-null  object \n",
      " 12  week_end            44950 non-null  object \n",
      " 13  header              44950 non-null  object \n",
      " 14  issue_multi         44950 non-null  int64  \n",
      " 15  issue_mono          44950 non-null  int64  \n",
      " 16  issue               2612 non-null   float64\n",
      " 17  issue_coder2        346 non-null    float64\n",
      " 18  position            2521 non-null   float64\n",
      " 19  position_coder2     315 non-null    float64\n",
      " 20  cv_sample           44950 non-null  int64  \n",
      " 21  issue_ridge         44950 non-null  int64  \n",
      " 22  issue_super         44950 non-null  int64  \n",
      " 23  text                44950 non-null  object \n",
      "dtypes: float64(5), int64(7), object(12)\n",
      "memory usage: 8.6+ MB\n"
     ]
    }
   ],
   "source": [
    "df_de.info()"
   ]
  },
  {
   "cell_type": "code",
   "execution_count": 9,
   "metadata": {},
   "outputs": [],
   "source": [
    "# save as .csv\n",
    "df_de.to_csv(\"../data/in/df_de.csv\", index=False)"
   ]
  },
  {
   "cell_type": "markdown",
   "metadata": {},
   "source": [
    "<hr style=\"opacity: 0.5\">\n",
    "\n",
    "### Tokenization and embeddings\n",
    "\n",
    "-- *Tokenize data*"
   ]
  },
  {
   "cell_type": "code",
   "execution_count": 18,
   "metadata": {},
   "outputs": [
    {
     "name": "stdout",
     "output_type": "stream",
     "text": [
      "Index(['id', 'country_name', 'parlgov_id', 'party', 'party_name',\n",
      "       'party_name_english', 'family_name', 'date', 'month', 'month_start',\n",
      "       'month_end', 'calendar_week', 'week_start', 'week_end', 'header',\n",
      "       'issue_multi', 'issue_mono', 'issue', 'issue_coder2', 'position',\n",
      "       'position_coder2', 'cv_sample', 'issue_ridge', 'issue_super', 'text'],\n",
      "      dtype='object')\n"
     ]
    }
   ],
   "source": [
    "# keep index as id\n",
    "df_sample.reset_index(inplace=True)\n",
    "df_sample.rename(columns={'index': 'id'}, inplace=True)\n",
    "\n",
    "print(df_sample.columns)"
   ]
  },
  {
   "cell_type": "code",
   "execution_count": 19,
   "metadata": {},
   "outputs": [],
   "source": [
    "def tokenize_function(text):\n",
    "    return tokenizer(text, padding=\"max_length\", truncation=True, max_length=512, return_tensors='pt')\n",
    "\n",
    "# apply tokenization and keep 'id'\n",
    "df_sample['tokenized_data'] = df_sample['text'].apply(tokenize_function)\n",
    "df_sample['id'] = df_sample.index"
   ]
  },
  {
   "cell_type": "code",
   "execution_count": 20,
   "metadata": {},
   "outputs": [
    {
     "name": "stderr",
     "output_type": "stream",
     "text": [
      "Map: 100%|██████████| 4400/4400 [00:11<00:00, 367.01 examples/s]\n"
     ]
    }
   ],
   "source": [
    "# define function to tokenize data\n",
    "def tokenize_function(examples):\n",
    "    return tokenizer(examples['text'], padding=\"max_length\", truncation=True, max_length=512, return_tensors='pt')  # return_tensors='pt' for PyTorch\n",
    "\n",
    "# run function\n",
    "tokenized_dataset = dataset.map(tokenize_function, batched=True)"
   ]
  },
  {
   "cell_type": "code",
   "execution_count": null,
   "metadata": {},
   "outputs": [],
   "source": [
    "tokenized_dataset"
   ]
  },
  {
   "cell_type": "markdown",
   "metadata": {},
   "source": [
    "-- *Extract embeddings*"
   ]
  },
  {
   "cell_type": "code",
   "execution_count": 21,
   "metadata": {},
   "outputs": [
    {
     "name": "stderr",
     "output_type": "stream",
     "text": [
      "Map: 100%|██████████| 4400/4400 [47:07<00:00,  1.56 examples/s]\n"
     ]
    }
   ],
   "source": [
    "# define function to extract embeddings\n",
    "def extract_embeddings(batch):\n",
    "    # Ensure inputs are tensors; convert if necessary\n",
    "    input_ids = torch.tensor(batch['input_ids'])\n",
    "    attention_mask = torch.tensor(batch['attention_mask'])\n",
    "\n",
    "    # forward pass, no gradient calculation\n",
    "    with torch.no_grad():\n",
    "        outputs = model(input_ids, attention_mask=attention_mask)\n",
    "    \n",
    "    # return embeddings; convert tensors to numpy arrays\n",
    "    return {'embeddings': outputs.last_hidden_state.mean(dim=1).detach().cpu().numpy()}\n",
    "\n",
    "# run function\n",
    "embeddings = tokenized_dataset.map(extract_embeddings, batched=True)"
   ]
  },
  {
   "cell_type": "code",
   "execution_count": 23,
   "metadata": {},
   "outputs": [],
   "source": [
    "# save into .pkl file\n",
    "with open('../data/out/embeddings.pkl', 'wb') as f:\n",
    "    pickle.dump(embeddings, f)"
   ]
  },
  {
   "cell_type": "code",
   "execution_count": null,
   "metadata": {},
   "outputs": [],
   "source": [
    "embeddings"
   ]
  },
  {
   "cell_type": "markdown",
   "metadata": {},
   "source": [
    "<hr style=\"opacity: 0.5\">\n",
    "\n",
    "### Emotional intensity score\n",
    "\n",
    "-- *Reduce dimensionality*"
   ]
  },
  {
   "cell_type": "code",
   "execution_count": 26,
   "metadata": {},
   "outputs": [],
   "source": [
    "# convert embeddings into a single array\n",
    "all_embeddings = np.vstack([batch['embeddings'] for batch in embeddings])"
   ]
  },
  {
   "cell_type": "code",
   "execution_count": 27,
   "metadata": {},
   "outputs": [],
   "source": [
    "# reduce dimensionality to 10 dimensions\n",
    "pca = PCA(n_components=10)\n",
    "reduced_embeddings = pca.fit_transform(all_embeddings)"
   ]
  },
  {
   "cell_type": "code",
   "execution_count": 28,
   "metadata": {},
   "outputs": [],
   "source": [
    "# create scores\n",
    "scores = np.linalg.norm(reduced_embeddings, axis=1)\n",
    "\n",
    "# single score for each press release, indicating its intensity based on the PCA-reduced embeddings"
   ]
  },
  {
   "cell_type": "markdown",
   "metadata": {},
   "source": [
    "-- *Top / bottom scores*"
   ]
  },
  {
   "cell_type": "code",
   "execution_count": 30,
   "metadata": {},
   "outputs": [],
   "source": [
    "# create df with scores\n",
    "scores_df = pd.DataFrame({\n",
    "    'score': scores\n",
    "}, index=df_sample.index)\n",
    "\n",
    "# merge scores df onto original df\n",
    "df_de_scored = df_sample.join(scores_df)"
   ]
  },
  {
   "cell_type": "code",
   "execution_count": 33,
   "metadata": {},
   "outputs": [],
   "source": [
    "# top 10 scores\n",
    "df_top10 = df_de_scored.sort_values(by='score', ascending=False).head(10)\n",
    "\n",
    "# bottom 10 scores\n",
    "df_bottom10 = df_de_scored.sort_values(by='score', ascending=True).head(10)"
   ]
  },
  {
   "cell_type": "markdown",
   "metadata": {},
   "source": [
    "<hr style=\"opacity: 0.5\">\n",
    "\n",
    "### Visualize results\n",
    "\n",
    "-- *Distribution of intensity scores*"
   ]
  },
  {
   "cell_type": "code",
   "execution_count": 35,
   "metadata": {},
   "outputs": [
    {
     "data": {
      "image/png": "[encoded data removed]",
      "text/plain": [
       "<Figure size 800x400 with 1 Axes>"
      ]
     },
     "metadata": {},
     "output_type": "display_data"
    }
   ],
   "source": [
    "# set style for seaborn plots\n",
    "sns.set(style=\"whitegrid\")\n",
    "\n",
    "# plot distribution of scores\n",
    "plt.figure(figsize=(8, 4))\n",
    "sns.histplot(df_de_scored['score'], kde=True, color=\"blue\", binwidth=0.5)\n",
    "plt.scatter(df_bottom10['score'], [0]*len(df_bottom10), color='red', s=50, label='Bottom Scores')\n",
    "plt.scatter(df_de_scored.sort_values(by='score', ascending=False).head(10)['score'], [0]*10, color='green', s=50, label='Top Scores')\n",
    "plt.title('Distribution of Intensity Scores with Top and Bottom Scores Highlighted')\n",
    "plt.xlabel('Intensity Score')\n",
    "plt.ylabel('Frequency')\n",
    "plt.legend()\n",
    "plt.show()"
   ]
  },
  {
   "cell_type": "code",
   "execution_count": null,
   "metadata": {},
   "outputs": [],
   "source": []
  }
 ],
 "metadata": {
  "kernelspec": {
   "display_name": "NLP",
   "language": "python",
   "name": "python3"
  },
  "language_info": {
   "codemirror_mode": {
    "name": "ipython",
    "version": 3
   },
   "file_extension": ".py",
   "mimetype": "text/x-python",
   "name": "python",
   "nbconvert_exporter": "python",
   "pygments_lexer": "ipython3",
   "version": "3.11.8"
  }
 },
 "nbformat": 4,
 "nbformat_minor": 2
}
