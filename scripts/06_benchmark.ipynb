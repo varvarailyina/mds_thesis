{
 "cells": [
  {
   "cell_type": "markdown",
   "metadata": {},
   "source": [
    "## MDS Thesis\n",
    "#### 06. Benchmark GELECTRA prediction results with ED8 dictionary\n",
    "\n",
    "<br>\n",
    "<hr style=\"opacity: 0.5\">\n",
    "\n",
    "### Setup"
   ]
  },
  {
   "cell_type": "code",
   "execution_count": 42,
   "metadata": {},
   "outputs": [],
   "source": [
    "import os\n",
    "import pandas as pd\n",
    "import seaborn as sns\n",
    "import matplotlib.pyplot as plt\n",
    "import statsmodels.api as sm\n",
    "import statsmodels.formula.api as smf\n",
    "from scipy.stats import pearsonr"
   ]
  },
  {
   "cell_type": "code",
   "execution_count": 43,
   "metadata": {},
   "outputs": [],
   "source": [
    "# set wd\n",
    "ROOT_DIR = \"/Users/varvarailyina/hertie/mds_thesis/data\""
   ]
  },
  {
   "cell_type": "code",
   "execution_count": 77,
   "metadata": {},
   "outputs": [],
   "source": [
    "# load sentence-level data\n",
    "df_ed8 = pd.read_csv(os.path.join(ROOT_DIR, \"out\", \"df_res_ed8.csv\"))\n",
    "df_gelectra = pd.read_pickle(os.path.join(ROOT_DIR, \"out\", \"df_all.pkl\"))"
   ]
  },
  {
   "cell_type": "markdown",
   "metadata": {},
   "source": [
    "-- *Prepare merged GELECTRA + ED8 data*"
   ]
  },
  {
   "cell_type": "code",
   "execution_count": 75,
   "metadata": {},
   "outputs": [],
   "source": [
    "# define emotion labels\n",
    "emotions = ['anger', 'fear', 'disgust', 'sadness', 'joy', 'enthusiasm', 'pride', 'hope']\n",
    "\n",
    "# rename columns for clarity\n",
    "df_ed8 = df_ed8.rename(columns={f'ed8_{emo}': emo for emo in emotions})\n",
    "df_ed8 = df_ed8.rename(columns={f'ed8_{emo}_norm': f'ed8_{emo}' for emo in emotions})\n",
    "\n",
    "df_gelectra = df_gelectra.rename(columns={f'{emo}': f'gelectra_{emo}' for emo in emotions})"
   ]
  },
  {
   "cell_type": "code",
   "execution_count": 76,
   "metadata": {},
   "outputs": [
    {
     "name": "stdout",
     "output_type": "stream",
     "text": [
      "Index(['Unnamed: 0', 'doc_id', 'party', 'date', 'month', 'text', 'sentence',\n",
      "       'anger', 'fear', 'disgust', 'sadness', 'joy', 'enthusiasm', 'pride',\n",
      "       'hope', 'terms_raw', 'terms', 'ed8_anger', 'ed8_fear', 'ed8_disgust',\n",
      "       'ed8_sadness', 'ed8_joy', 'ed8_enthusiasm', 'ed8_pride', 'ed8_hope'],\n",
      "      dtype='object')\n",
      "Index(['country_name', 'party', 'party_name', 'family_name', 'date', 'month',\n",
      "       'calendar_week', 'issue_mono', 'issue_label', 'header', 'text',\n",
      "       'n_words', 'doc_id', 'sentence', 'gelectra_anger', 'gelectra_fear',\n",
      "       'gelectra_disgust', 'gelectra_sadness', 'gelectra_joy',\n",
      "       'gelectra_enthusiasm', 'gelectra_pride', 'gelectra_hope'],\n",
      "      dtype='object')\n"
     ]
    }
   ],
   "source": [
    "# check col names\n",
    "print(df_ed8.columns)\n",
    "print(df_gelectra.columns)"
   ]
  },
  {
   "cell_type": "markdown",
   "metadata": {},
   "source": [
    "-- *Merge results*"
   ]
  },
  {
   "cell_type": "code",
   "execution_count": 50,
   "metadata": {},
   "outputs": [],
   "source": [
    "# subset ED8\n",
    "df_ed8_sub = df_ed8[['date', 'text', 'sentence'] + [f'ed8_{emo}' for emo in emotions]]\n",
    "\n",
    "# subset GELECTRA\n",
    "df_gelectra_sub = df_gelectra[['party', 'date', 'issue_mono', 'issue_label', 'doc_id', 'text', 'sentence'] + [f'gelectra_{emo}' for emo in emotions]]"
   ]
  },
  {
   "cell_type": "code",
   "execution_count": 52,
   "metadata": {},
   "outputs": [
    {
     "name": "stdout",
     "output_type": "stream",
     "text": [
      "Merged dataset has 453410 rows.\n"
     ]
    }
   ],
   "source": [
    "# merge on shared keys\n",
    "df_merged = pd.merge(\n",
    "    df_gelectra_sub,\n",
    "    df_ed8_sub,\n",
    "    on=['date', 'text', 'sentence'],\n",
    "    how='inner'\n",
    ")\n",
    "\n",
    "# check merge success\n",
    "print(f\"Merged dataset has {df_merged.shape[0]} rows.\")"
   ]
  },
  {
   "cell_type": "markdown",
   "metadata": {},
   "source": [
    "<hr style=\"opacity: 0.25\">\n",
    "\n",
    "### Correlate GELECTRA vs. ED8 predictions\n",
    "\n",
    "-- *Correlate overall sentence-level predictions*"
   ]
  },
  {
   "cell_type": "code",
   "execution_count": 73,
   "metadata": {},
   "outputs": [
    {
     "name": "stdout",
     "output_type": "stream",
     "text": [
      "\n",
      "Emotion Correlations between ED8 and GELECTRA:\n",
      "      emotion  correlation  p_value\n",
      "0       anger       0.1960      0.0\n",
      "1        fear       0.3730      0.0\n",
      "2     disgust       0.3610      0.0\n",
      "3     sadness       0.3229      0.0\n",
      "4         joy       0.2623      0.0\n",
      "5  enthusiasm       0.2853      0.0\n",
      "6       pride       0.1742      0.0\n",
      "7        hope       0.2122      0.0\n"
     ]
    }
   ],
   "source": [
    "# sentence-level correlation\n",
    "\n",
    "# initialize results\n",
    "correlations = []\n",
    "\n",
    "# loop through emotions\n",
    "for emo in emotions:\n",
    "    #col_ed8 = f'ed8_{emo}_norm'\n",
    "    #col_gelectra = f'gelectra_{emo}_norm'\n",
    "    col_ed8 = f'ed8_{emo}'\n",
    "    col_gelectra = f'gelectra_{emo}'\n",
    "\n",
    "    # drop NA values before correlation\n",
    "    valid_data = df_merged[[col_ed8, col_gelectra]].dropna()\n",
    "\n",
    "    if len(valid_data) >= 10:\n",
    "        corr, pval = pearsonr(valid_data[col_ed8], valid_data[col_gelectra])\n",
    "        correlations.append({\n",
    "            'emotion': emo,\n",
    "            'correlation': round(corr, 4),\n",
    "            'p_value': pval\n",
    "        })\n",
    "    else:\n",
    "        correlations.append({\n",
    "            'emotion': emo,\n",
    "            'correlation': None,\n",
    "            'p_value': None\n",
    "        })\n",
    "\n",
    "# df of results\n",
    "df_correlations = pd.DataFrame(correlations)\n",
    "\n",
    "# output corr table\n",
    "print(\"\\nEmotion Correlations between ED8 and GELECTRA:\")\n",
    "print(df_correlations)"
   ]
  },
  {
   "cell_type": "code",
   "execution_count": 72,
   "metadata": {},
   "outputs": [
    {
     "data": {
      "image/png": "[encoded data removed]",
      "text/plain": [
       "<Figure size 600x300 with 1 Axes>"
      ]
     },
     "metadata": {},
     "output_type": "display_data"
    }
   ],
   "source": [
    "# plot\n",
    "plt.figure(figsize=(6, 3))\n",
    "\n",
    "sns.barplot(data=df_correlations, x='emotion', y='correlation')\n",
    "\n",
    "plt.title('Pearson Correlation: ED8 vs. GELECTRA per Emotion', fontsize=10)\n",
    "plt.xlabel(\"Emotion\", fontsize=9)\n",
    "plt.ylabel(\"Correlation\", fontsize=9)\n",
    "plt.xticks(fontsize=8)\n",
    "plt.yticks(fontsize=8)\n",
    "plt.ylim(0, 1)\n",
    "plt.axhline(0, linestyle='--', color='gray')\n",
    "\n",
    "plt.tight_layout()\n",
    "plt.show()"
   ]
  },
  {
   "cell_type": "markdown",
   "metadata": {},
   "source": [
    "-- *ED8 and GELECTRA alignment..*"
   ]
  },
  {
   "cell_type": "code",
   "execution_count": 78,
   "metadata": {},
   "outputs": [],
   "source": [
    "def group_correlation(df, group_col, emotions, label):\n",
    "    print(f\"\\nCorrelations by {label.title()}\")\n",
    "\n",
    "    # group and average by the grouping column (e.g., party, month)\n",
    "    df_grouped = df.groupby(group_col).mean(numeric_only=True)\n",
    "\n",
    "    rows = []\n",
    "\n",
    "    for emo in emotions:\n",
    "        col_ed8 = f'ed8_{emo}'\n",
    "        col_gelectra = f'gelectra_{emo}'\n",
    "\n",
    "        if col_ed8 in df_grouped.columns and col_gelectra in df_grouped.columns:\n",
    "            x = df_grouped[col_ed8]\n",
    "            y = df_grouped[col_gelectra]\n",
    "\n",
    "            if len(x) >= 3:  # at least 3 points to correlate\n",
    "                corr, pval = pearsonr(x, y)\n",
    "                rows.append({\n",
    "                    'emotion': emo,\n",
    "                    'correlation': round(corr, 3),\n",
    "                    'p_value': f\"{pval:.2e}\"\n",
    "                })\n",
    "\n",
    "    return pd.DataFrame(rows)"
   ]
  },
  {
   "cell_type": "markdown",
   "metadata": {},
   "source": [
    "*..aggregated by party*"
   ]
  },
  {
   "cell_type": "code",
   "execution_count": 79,
   "metadata": {},
   "outputs": [
    {
     "name": "stdout",
     "output_type": "stream",
     "text": [
      "\n",
      "Correlations by Party\n",
      "      emotion  correlation   p_value\n",
      "0       anger        0.963  2.00e-03\n",
      "1        fear        0.981  5.37e-04\n",
      "2     disgust        0.957  2.79e-03\n",
      "3     sadness        0.955  3.02e-03\n",
      "4         joy        0.982  4.58e-04\n",
      "5  enthusiasm        0.935  6.21e-03\n",
      "6       pride        0.967  1.62e-03\n",
      "7        hope        0.995  3.99e-05\n"
     ]
    }
   ],
   "source": [
    "# corr by party\n",
    "df_party_corr = group_correlation(df_merged, 'party', emotions, 'party')\n",
    "print(df_party_corr)\n",
    "\n",
    "# whether gelectra and ed8 agree on which parties express more / less of each emotion on average"
   ]
  },
  {
   "cell_type": "markdown",
   "metadata": {},
   "source": [
    "*..by issue*"
   ]
  },
  {
   "cell_type": "code",
   "execution_count": 80,
   "metadata": {},
   "outputs": [
    {
     "name": "stdout",
     "output_type": "stream",
     "text": [
      "\n",
      "Correlations by Issue\n",
      "      emotion  correlation   p_value\n",
      "0       anger        0.662  1.09e-03\n",
      "1        fear        0.899  2.95e-08\n",
      "2     disgust        0.933  6.80e-10\n",
      "3     sadness        0.942  1.82e-10\n",
      "4         joy        0.524  1.47e-02\n",
      "5  enthusiasm        0.877  1.85e-07\n",
      "6       pride        0.823  4.63e-06\n",
      "7        hope        0.591  4.76e-03\n"
     ]
    }
   ],
   "source": [
    "# corr by issue\n",
    "df_issue_corr  = group_correlation(df_merged, 'issue_mono', emotions, 'issue')\n",
    "print(df_issue_corr)\n",
    "\n",
    "# whether gelectra and ed8 agree on which issues associated with higher / lower levels of emotion on average"
   ]
  },
  {
   "cell_type": "markdown",
   "metadata": {},
   "source": [
    "*..by month*"
   ]
  },
  {
   "cell_type": "code",
   "execution_count": 81,
   "metadata": {},
   "outputs": [
    {
     "name": "stdout",
     "output_type": "stream",
     "text": [
      "\n",
      "Correlations by Month\n",
      "      emotion  correlation   p_value\n",
      "0       anger        0.483  4.70e-08\n",
      "1        fear        0.809  7.09e-28\n",
      "2     disgust        0.721  9.94e-20\n",
      "3     sadness        0.695  6.50e-18\n",
      "4         joy        0.450  4.58e-07\n",
      "5  enthusiasm        0.749  5.82e-22\n",
      "6       pride        0.515  3.86e-09\n",
      "7        hope        0.620  1.42e-13\n"
     ]
    }
   ],
   "source": [
    "# create month variable\n",
    "df_merged['month'] = pd.to_datetime(df_merged['date']).dt.strftime('%y%m')\n",
    "\n",
    "# by month\n",
    "df_month_corr = group_correlation(df_merged, 'month', emotions, 'month')\n",
    "print(df_month_corr)\n",
    "\n",
    "# whether gelectra and ed8 classify similar emotion sores per month across all sentences"
   ]
  },
  {
   "cell_type": "markdown",
   "metadata": {},
   "source": [
    "*..by party on sentence-level*"
   ]
  },
  {
   "cell_type": "code",
   "execution_count": 82,
   "metadata": {},
   "outputs": [
    {
     "name": "stdout",
     "output_type": "stream",
     "text": [
      "      party     emotion  correlation        p_value\n",
      "0       FDP       anger        0.194   0.000000e+00\n",
      "1       FDP        fear        0.359   0.000000e+00\n",
      "2       FDP     disgust        0.324   0.000000e+00\n",
      "3       FDP     sadness        0.301   0.000000e+00\n",
      "4       FDP         joy        0.259   0.000000e+00\n",
      "5       FDP  enthusiasm        0.274   0.000000e+00\n",
      "6       FDP       pride        0.161  5.973454e-307\n",
      "7       FDP        hope        0.218   0.000000e+00\n",
      "8       SPD       anger        0.179   0.000000e+00\n",
      "9       SPD        fear        0.372   0.000000e+00\n",
      "10      SPD     disgust        0.346   0.000000e+00\n",
      "11      SPD     sadness        0.320   0.000000e+00\n",
      "12      SPD         joy        0.256   0.000000e+00\n",
      "13      SPD  enthusiasm        0.310   0.000000e+00\n",
      "14      SPD       pride        0.169   0.000000e+00\n",
      "15      SPD        hope        0.221   0.000000e+00\n",
      "16   Greens       anger        0.158   0.000000e+00\n",
      "17   Greens        fear        0.370   0.000000e+00\n",
      "18   Greens     disgust        0.362   0.000000e+00\n",
      "19   Greens     sadness        0.304   0.000000e+00\n",
      "20   Greens         joy        0.268   0.000000e+00\n",
      "21   Greens  enthusiasm        0.302   0.000000e+00\n",
      "22   Greens       pride        0.149   0.000000e+00\n",
      "23   Greens        hope        0.199   0.000000e+00\n",
      "24     Left       anger        0.166   0.000000e+00\n",
      "25     Left        fear        0.342   0.000000e+00\n",
      "26     Left     disgust        0.358   0.000000e+00\n",
      "27     Left     sadness        0.309   0.000000e+00\n",
      "28     Left         joy        0.218   0.000000e+00\n",
      "29     Left  enthusiasm        0.208   0.000000e+00\n",
      "30     Left       pride        0.131   0.000000e+00\n",
      "31     Left        hope        0.182   0.000000e+00\n",
      "32  CDU/CSU       anger        0.246   0.000000e+00\n",
      "33  CDU/CSU        fear        0.426   0.000000e+00\n",
      "34  CDU/CSU     disgust        0.397   0.000000e+00\n",
      "35  CDU/CSU     sadness        0.385   0.000000e+00\n",
      "36  CDU/CSU         joy        0.280   0.000000e+00\n",
      "37  CDU/CSU  enthusiasm        0.275   0.000000e+00\n",
      "38  CDU/CSU       pride        0.178   0.000000e+00\n",
      "39  CDU/CSU        hope        0.207   0.000000e+00\n",
      "40      AfD       anger        0.207   0.000000e+00\n",
      "41      AfD        fear        0.354   0.000000e+00\n",
      "42      AfD     disgust        0.359   0.000000e+00\n",
      "43      AfD     sadness        0.296   0.000000e+00\n",
      "44      AfD         joy        0.244   0.000000e+00\n",
      "45      AfD  enthusiasm        0.213   0.000000e+00\n",
      "46      AfD       pride        0.163  6.777877e-202\n",
      "47      AfD        hope        0.177  7.588349e-238\n"
     ]
    }
   ],
   "source": [
    "# per party without averaging\n",
    "\n",
    "results = []\n",
    "\n",
    "for party in df_merged['party'].unique():\n",
    "    subset = df_merged[df_merged['party'] == party]\n",
    "    for emo in emotions:\n",
    "        col_ed8 = f'ed8_{emo}'\n",
    "        col_gelectra = f'gelectra_{emo}'\n",
    "        valid = subset[[col_ed8, col_gelectra]].dropna()\n",
    "        if len(valid) >= 10:\n",
    "            corr, pval = pearsonr(valid[col_ed8], valid[col_gelectra])\n",
    "            results.append({\n",
    "                'party': party,\n",
    "                'emotion': emo,\n",
    "                'correlation': round(corr, 3),\n",
    "                'p_value': pval\n",
    "            })\n",
    "\n",
    "df_party_sentence_corr = pd.DataFrame(results)\n",
    "print(df_party_sentence_corr)"
   ]
  },
  {
   "cell_type": "code",
   "execution_count": null,
   "metadata": {},
   "outputs": [],
   "source": []
  }
 ],
 "metadata": {
  "kernelspec": {
   "display_name": "env",
   "language": "python",
   "name": "python3"
  },
  "language_info": {
   "codemirror_mode": {
    "name": "ipython",
    "version": 3
   },
   "file_extension": ".py",
   "mimetype": "text/x-python",
   "name": "python",
   "nbconvert_exporter": "python",
   "pygments_lexer": "ipython3",
   "version": "3.9.4"
  }
 },
 "nbformat": 4,
 "nbformat_minor": 2
}
